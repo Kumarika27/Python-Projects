{
 "cells": [
  {
   "cell_type": "code",
   "execution_count": 7,
   "id": "535d20c3",
   "metadata": {},
   "outputs": [
    {
     "name": "stdout",
     "output_type": "stream",
     "text": [
      "Requirement already satisfied: qrcode in c:\\users\\lenovo\\anaconda3\\lib\\site-packages (7.4.2)\n",
      "Requirement already satisfied: typing-extensions in c:\\users\\lenovo\\anaconda3\\lib\\site-packages (from qrcode) (3.10.0.2)\n",
      "Requirement already satisfied: pypng in c:\\users\\lenovo\\anaconda3\\lib\\site-packages (from qrcode) (0.20220715.0)\n",
      "Requirement already satisfied: colorama in c:\\users\\lenovo\\anaconda3\\lib\\site-packages (from qrcode) (0.4.4)\n"
     ]
    }
   ],
   "source": [
    "!pip install qrcode"
   ]
  },
  {
   "cell_type": "code",
   "execution_count": 8,
   "id": "a5d88d22",
   "metadata": {},
   "outputs": [],
   "source": [
    "import qrcode as qr #Akias"
   ]
  },
  {
   "cell_type": "code",
   "execution_count": 9,
   "id": "0ffe20d6",
   "metadata": {},
   "outputs": [],
   "source": [
    "img= qr.make('https://www.youtube.com/@wscubetech')\n",
    "img.save('WsCube_Youtube.png')"
   ]
  },
  {
   "cell_type": "code",
   "execution_count": 14,
   "id": "37d320dc",
   "metadata": {},
   "outputs": [],
   "source": [
    "import qrcode"
   ]
  },
  {
   "cell_type": "code",
   "execution_count": 15,
   "id": "8dbb17ac",
   "metadata": {},
   "outputs": [],
   "source": [
    "from PIL import Image"
   ]
  },
  {
   "cell_type": "code",
   "execution_count": 18,
   "id": "30735966",
   "metadata": {},
   "outputs": [],
   "source": [
    "qr= qrcode.QRCode(version=1,\n",
    "                 error_correction= qrcode.constants.ERROR_CORRECT_H,\n",
    "                 box_size=10, border= 4)\n",
    "qr.add_data('https://www.wscubetech.com/')\n",
    "qr.make(fit = True)\n",
    "img= qr.make_image(fill_color= 'black', back_color= 'yellow')\n",
    "img.save('WeCube_Web.png')"
   ]
  }
 ],
 "metadata": {
  "kernelspec": {
   "display_name": "Python 3 (ipykernel)",
   "language": "python",
   "name": "python3"
  },
  "language_info": {
   "codemirror_mode": {
    "name": "ipython",
    "version": 3
   },
   "file_extension": ".py",
   "mimetype": "text/x-python",
   "name": "python",
   "nbconvert_exporter": "python",
   "pygments_lexer": "ipython3",
   "version": "3.9.7"
  }
 },
 "nbformat": 4,
 "nbformat_minor": 5
}
