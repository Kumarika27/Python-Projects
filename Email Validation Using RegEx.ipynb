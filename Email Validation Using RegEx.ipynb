{
 "cells": [
  {
   "cell_type": "code",
   "execution_count": 1,
   "id": "c5e8feeb",
   "metadata": {},
   "outputs": [],
   "source": [
    "import re"
   ]
  },
  {
   "cell_type": "code",
   "execution_count": 2,
   "id": "9bb508ab",
   "metadata": {},
   "outputs": [
    {
     "name": "stdout",
     "output_type": "stream",
     "text": [
      "Enter Your Email: 1abc@gmail.com\n",
      "Wrong Email\n"
     ]
    }
   ],
   "source": [
    "email_condition= '^[a-z]+[\\._]?[a-z 0-9]+[@]\\w+[.]\\w{2,3}$'\n",
    "user_email= input('Enter Your Email: ')\n",
    "if re.search(email_condition, user_email):\n",
    "    print('Right Email')\n",
    "else:\n",
    "    print('Wrong Email')"
   ]
  },
  {
   "cell_type": "code",
   "execution_count": 3,
   "id": "77f1e6af",
   "metadata": {},
   "outputs": [
    {
     "name": "stdout",
     "output_type": "stream",
     "text": [
      "Enter Your Email: a.b.@gmail.com\n",
      "Wrong Email\n"
     ]
    }
   ],
   "source": [
    "email_condition= '^[a-z]+[\\._]?[a-z 0-9]+[@]\\w+[.]\\w{2,3}$'\n",
    "user_email= input('Enter Your Email: ')\n",
    "if re.search(email_condition, user_email):\n",
    "    print('Right Email')\n",
    "else:\n",
    "    print('Wrong Email')"
   ]
  },
  {
   "cell_type": "code",
   "execution_count": 4,
   "id": "5c306278",
   "metadata": {},
   "outputs": [
    {
     "name": "stdout",
     "output_type": "stream",
     "text": [
      "Enter Your Email: abc@gmail.comcom\n",
      "Wrong Email\n"
     ]
    }
   ],
   "source": [
    "email_condition= '^[a-z]+[\\._]?[a-z 0-9]+[@]\\w+[.]\\w{2,3}$'\n",
    "user_email= input('Enter Your Email: ')\n",
    "if re.search(email_condition, user_email):\n",
    "    print('Right Email')\n",
    "else:\n",
    "    print('Wrong Email')"
   ]
  },
  {
   "cell_type": "code",
   "execution_count": 5,
   "id": "db1be1b4",
   "metadata": {},
   "outputs": [
    {
     "name": "stdout",
     "output_type": "stream",
     "text": [
      "Enter Your Email: abcgmail.com\n",
      "Wrong Email\n"
     ]
    }
   ],
   "source": [
    "email_condition= '^[a-z]+[\\._]?[a-z 0-9]+[@]\\w+[.]\\w{2,3}$'\n",
    "user_email= input('Enter Your Email: ')\n",
    "if re.search(email_condition, user_email):\n",
    "    print('Right Email')\n",
    "else:\n",
    "    print('Wrong Email')"
   ]
  },
  {
   "cell_type": "code",
   "execution_count": 6,
   "id": "13beba9d",
   "metadata": {},
   "outputs": [
    {
     "name": "stdout",
     "output_type": "stream",
     "text": [
      "Enter Your Email: abc@gmail.com\n",
      "Right Email\n"
     ]
    }
   ],
   "source": [
    "email_condition= '^[a-z]+[\\._]?[a-z 0-9]+[@]\\w+[.]\\w{2,3}$'\n",
    "user_email= input('Enter Your Email: ')\n",
    "if re.search(email_condition, user_email):\n",
    "    print('Right Email')\n",
    "else:\n",
    "    print('Wrong Email')"
   ]
  },
  {
   "cell_type": "code",
   "execution_count": 7,
   "id": "cabbb425",
   "metadata": {},
   "outputs": [
    {
     "name": "stdout",
     "output_type": "stream",
     "text": [
      "Enter Your Email: abc_123@gmail.com\n",
      "Right Email\n"
     ]
    }
   ],
   "source": [
    "email_condition= '^[a-z]+[\\._]?[a-z 0-9]+[@]\\w+[.]\\w{2,3}$'\n",
    "user_email= input('Enter Your Email: ')\n",
    "if re.search(email_condition, user_email):\n",
    "    print('Right Email')\n",
    "else:\n",
    "    print('Wrong Email')"
   ]
  }
 ],
 "metadata": {
  "kernelspec": {
   "display_name": "Python 3 (ipykernel)",
   "language": "python",
   "name": "python3"
  },
  "language_info": {
   "codemirror_mode": {
    "name": "ipython",
    "version": 3
   },
   "file_extension": ".py",
   "mimetype": "text/x-python",
   "name": "python",
   "nbconvert_exporter": "python",
   "pygments_lexer": "ipython3",
   "version": "3.9.7"
  }
 },
 "nbformat": 4,
 "nbformat_minor": 5
}
