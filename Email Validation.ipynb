{
 "cells": [
  {
   "cell_type": "code",
   "execution_count": 1,
   "id": "c10e0aa9",
   "metadata": {},
   "outputs": [
    {
     "name": "stdout",
     "output_type": "stream",
     "text": [
      "Enter you Email: wcub\n",
      "Wrong Email 1\n"
     ]
    }
   ],
   "source": [
    "email= input('Enter you Email: ')\n",
    "k, j, d=0, 0, 0\n",
    "if len(email)>= 6:\n",
    "    if email[0].isalpha():\n",
    "        if ('@' in email) and (email.count('@')==1):\n",
    "            if (email[-4]=='.') ^ (email[-3]=='.'):\n",
    "                for i in email:\n",
    "                    if i == i.isspace():\n",
    "                        k=1\n",
    "                    elif i.isalpha():\n",
    "                        if i == i.upper():\n",
    "                            j=1\n",
    "                    elif i.isdigit():\n",
    "                        continue\n",
    "                    elif i == '_' or i == '.' or i == '@':\n",
    "                        continue\n",
    "                    else:\n",
    "                        d= 1\n",
    "                if k == 1 or j == 1 or d == 1:\n",
    "                    print('Wrong Email 5')\n",
    "            else:\n",
    "                print('Wrong Email 4')\n",
    "        else:\n",
    "            print('Wrong Email 3')\n",
    "    else:\n",
    "        print('Wrong Email 2')\n",
    "else:\n",
    "    print('Wrong Email 1')"
   ]
  },
  {
   "cell_type": "code",
   "execution_count": 2,
   "id": "8794af10",
   "metadata": {},
   "outputs": [
    {
     "name": "stdout",
     "output_type": "stream",
     "text": [
      "Enter you Email: 1wscube@gmail.com\n",
      "Wrong Email 2\n"
     ]
    }
   ],
   "source": [
    "email= input('Enter you Email: ')\n",
    "k, j, d=0, 0, 0\n",
    "if len(email)>= 6:\n",
    "    if email[0].isalpha():\n",
    "        if ('@' in email) and (email.count('@')==1):\n",
    "            if (email[-4]=='.') ^ (email[-3]=='.'):\n",
    "                for i in email:\n",
    "                    if i == i.isspace():\n",
    "                        k=1\n",
    "                    elif i.isalpha():\n",
    "                        if i == i.upper():\n",
    "                            j=1\n",
    "                    elif i.isdigit():\n",
    "                        continue\n",
    "                    elif i == '_' or i == '.' or i == '@':\n",
    "                        continue\n",
    "                    else:\n",
    "                        d= 1\n",
    "                if k == 1 or j == 1 or d == 1:\n",
    "                    print('Wrong Email 5')\n",
    "            else:\n",
    "                print('Wrong Email 4')\n",
    "        else:\n",
    "            print('Wrong Email 3')\n",
    "    else:\n",
    "        print('Wrong Email 2')\n",
    "else:\n",
    "    print('Wrong Email 1')"
   ]
  },
  {
   "cell_type": "code",
   "execution_count": 3,
   "id": "db77c33d",
   "metadata": {},
   "outputs": [
    {
     "name": "stdout",
     "output_type": "stream",
     "text": [
      "Enter you Email: ws@cube@gmail.com\n",
      "Wrong Email 3\n"
     ]
    }
   ],
   "source": [
    "email= input('Enter you Email: ')\n",
    "k, j, d=0, 0, 0\n",
    "if len(email)>= 6:\n",
    "    if email[0].isalpha():\n",
    "        if ('@' in email) and (email.count('@')==1):\n",
    "            if (email[-4]=='.') ^ (email[-3]=='.'):\n",
    "                for i in email:\n",
    "                    if i == i.isspace():\n",
    "                        k=1\n",
    "                    elif i.isalpha():\n",
    "                        if i == i.upper():\n",
    "                            j=1\n",
    "                    elif i.isdigit():\n",
    "                        continue\n",
    "                    elif i == '_' or i == '.' or i == '@':\n",
    "                        continue\n",
    "                    else:\n",
    "                        d= 1\n",
    "                if k == 1 or j == 1 or d == 1:\n",
    "                    print('Wrong Email 5')\n",
    "            else:\n",
    "                print('Wrong Email 4')\n",
    "        else:\n",
    "            print('Wrong Email 3')\n",
    "    else:\n",
    "        print('Wrong Email 2')\n",
    "else:\n",
    "    print('Wrong Email 1')"
   ]
  },
  {
   "cell_type": "code",
   "execution_count": 4,
   "id": "bed95e07",
   "metadata": {},
   "outputs": [
    {
     "name": "stdout",
     "output_type": "stream",
     "text": [
      "Enter you Email: wscube@gmail.c\n",
      "Wrong Email 4\n"
     ]
    }
   ],
   "source": [
    "email= input('Enter you Email: ')\n",
    "k, j, d=0, 0, 0\n",
    "if len(email)>= 6:\n",
    "    if email[0].isalpha():\n",
    "        if ('@' in email) and (email.count('@')==1):\n",
    "            if (email[-4]=='.') ^ (email[-3]=='.'):\n",
    "                for i in email:\n",
    "                    if i == i.isspace():\n",
    "                        k=1\n",
    "                    elif i.isalpha():\n",
    "                        if i == i.upper():\n",
    "                            j=1\n",
    "                    elif i.isdigit():\n",
    "                        continue\n",
    "                    elif i == '_' or i == '.' or i == '@':\n",
    "                        continue\n",
    "                    else:\n",
    "                        d= 1\n",
    "                if k == 1 or j == 1 or d == 1:\n",
    "                    print('Wrong Email 5')\n",
    "            else:\n",
    "                print('Wrong Email 4')\n",
    "        else:\n",
    "            print('Wrong Email 3')\n",
    "    else:\n",
    "        print('Wrong Email 2')\n",
    "else:\n",
    "    print('Wrong Email 1')"
   ]
  },
  {
   "cell_type": "code",
   "execution_count": 5,
   "id": "32000db3",
   "metadata": {},
   "outputs": [
    {
     "name": "stdout",
     "output_type": "stream",
     "text": [
      "Enter you Email: ws cube@gmail.com\n",
      "Wrong Email 5\n"
     ]
    }
   ],
   "source": [
    "email= input('Enter you Email: ')\n",
    "k, j, d=0, 0, 0\n",
    "if len(email)>= 6:\n",
    "    if email[0].isalpha():\n",
    "        if ('@' in email) and (email.count('@')==1):\n",
    "            if (email[-4]=='.') ^ (email[-3]=='.'):\n",
    "                for i in email:\n",
    "                    if i == i.isspace():\n",
    "                        k=1\n",
    "                    elif i.isalpha():\n",
    "                        if i == i.upper():\n",
    "                            j=1\n",
    "                    elif i.isdigit():\n",
    "                        continue\n",
    "                    elif i == '_' or i == '.' or i == '@':\n",
    "                        continue\n",
    "                    else:\n",
    "                        d= 1\n",
    "                if k == 1 or j == 1 or d == 1:\n",
    "                    print('Wrong Email 5')\n",
    "            else:\n",
    "                print('Wrong Email 4')\n",
    "        else:\n",
    "            print('Wrong Email 3')\n",
    "    else:\n",
    "        print('Wrong Email 2')\n",
    "else:\n",
    "    print('Wrong Email 1')"
   ]
  },
  {
   "cell_type": "code",
   "execution_count": 6,
   "id": "84d9e934",
   "metadata": {},
   "outputs": [
    {
     "name": "stdout",
     "output_type": "stream",
     "text": [
      "Enter you Email: Wscube@gmail.com\n",
      "Wrong Email 5\n"
     ]
    }
   ],
   "source": [
    "email= input('Enter you Email: ')\n",
    "k, j, d=0, 0, 0\n",
    "if len(email)>= 6:\n",
    "    if email[0].isalpha():\n",
    "        if ('@' in email) and (email.count('@')==1):\n",
    "            if (email[-4]=='.') ^ (email[-3]=='.'):\n",
    "                for i in email:\n",
    "                    if i == i.isspace():\n",
    "                        k=1\n",
    "                    elif i.isalpha():\n",
    "                        if i == i.upper():\n",
    "                            j=1\n",
    "                    elif i.isdigit():\n",
    "                        continue\n",
    "                    elif i == '_' or i == '.' or i == '@':\n",
    "                        continue\n",
    "                    else:\n",
    "                        d= 1\n",
    "                if k == 1 or j == 1 or d == 1:\n",
    "                    print('Wrong Email 5')\n",
    "            else:\n",
    "                print('Wrong Email 4')\n",
    "        else:\n",
    "            print('Wrong Email 3')\n",
    "    else:\n",
    "        print('Wrong Email 2')\n",
    "else:\n",
    "    print('Wrong Email 1')"
   ]
  },
  {
   "cell_type": "code",
   "execution_count": 7,
   "id": "4f1eb233",
   "metadata": {},
   "outputs": [
    {
     "name": "stdout",
     "output_type": "stream",
     "text": [
      "Enter you Email: ws#cube@gmail.com\n",
      "Wrong Email 5\n"
     ]
    }
   ],
   "source": [
    "email= input('Enter you Email: ')\n",
    "k, j, d=0, 0, 0\n",
    "if len(email)>= 6:\n",
    "    if email[0].isalpha():\n",
    "        if ('@' in email) and (email.count('@')==1):\n",
    "            if (email[-4]=='.') ^ (email[-3]=='.'):\n",
    "                for i in email:\n",
    "                    if i == i.isspace():\n",
    "                        k=1\n",
    "                    elif i.isalpha():\n",
    "                        if i == i.upper():\n",
    "                            j=1\n",
    "                    elif i.isdigit():\n",
    "                        continue\n",
    "                    elif i == '_' or i == '.' or i == '@':\n",
    "                        continue\n",
    "                    else:\n",
    "                        d= 1\n",
    "                if k == 1 or j == 1 or d == 1:\n",
    "                    print('Wrong Email 5')\n",
    "            else:\n",
    "                print('Wrong Email 4')\n",
    "        else:\n",
    "            print('Wrong Email 3')\n",
    "    else:\n",
    "        print('Wrong Email 2')\n",
    "else:\n",
    "    print('Wrong Email 1')"
   ]
  },
  {
   "cell_type": "code",
   "execution_count": 1,
   "id": "a31ff091",
   "metadata": {},
   "outputs": [
    {
     "name": "stdout",
     "output_type": "stream",
     "text": [
      "Enter you Email: We_cube@gmail.com\n",
      "Wrong Email 5\n"
     ]
    }
   ],
   "source": [
    "email= input('Enter you Email: ')\n",
    "k, j, d=0, 0, 0\n",
    "if len(email)>= 6:\n",
    "    if email[0].isalpha():\n",
    "        if ('@' in email) and (email.count('@')==1):\n",
    "            if (email[-4]=='.') ^ (email[-3]=='.'):\n",
    "                for i in email:\n",
    "                    if i == i.isspace():\n",
    "                        k=1\n",
    "                    elif i.isalpha():\n",
    "                        if i == i.upper():\n",
    "                            j=1\n",
    "                    elif i.isdigit():\n",
    "                        continue\n",
    "                    elif i == '_' or i == '.' or i == '@':\n",
    "                        continue\n",
    "                    else:\n",
    "                        d= 1\n",
    "                if k == 1 or j == 1 or d == 1:\n",
    "                    print('Wrong Email 5')\n",
    "                else:\n",
    "                    print('Right Email')\n",
    "            else:\n",
    "                print('Wrong Email 4')\n",
    "        else:\n",
    "            print('Wrong Email 3')\n",
    "    else:\n",
    "        print('Wrong Email 2')\n",
    "else:\n",
    "    print('Wrong Email 1')"
   ]
  },
  {
   "cell_type": "code",
   "execution_count": 2,
   "id": "b4629ada",
   "metadata": {},
   "outputs": [
    {
     "name": "stdout",
     "output_type": "stream",
     "text": [
      "Enter you Email: we_cube@gmail.com\n",
      "Right Email\n"
     ]
    }
   ],
   "source": [
    "email= input('Enter you Email: ')\n",
    "k, j, d=0, 0, 0\n",
    "if len(email)>= 6:\n",
    "    if email[0].isalpha():\n",
    "        if ('@' in email) and (email.count('@')==1):\n",
    "            if (email[-4]=='.') ^ (email[-3]=='.'):\n",
    "                for i in email:\n",
    "                    if i == i.isspace():\n",
    "                        k=1\n",
    "                    elif i.isalpha():\n",
    "                        if i == i.upper():\n",
    "                            j=1\n",
    "                    elif i.isdigit():\n",
    "                        continue\n",
    "                    elif i == '_' or i == '.' or i == '@':\n",
    "                        continue\n",
    "                    else:\n",
    "                        d= 1\n",
    "                if k == 1 or j == 1 or d == 1:\n",
    "                    print('Wrong Email 5')\n",
    "                else:\n",
    "                    print('Right Email')\n",
    "            else:\n",
    "                print('Wrong Email 4')\n",
    "        else:\n",
    "            print('Wrong Email 3')\n",
    "    else:\n",
    "        print('Wrong Email 2')\n",
    "else:\n",
    "    print('Wrong Email 1')"
   ]
  },
  {
   "cell_type": "code",
   "execution_count": 3,
   "id": "5cafb493",
   "metadata": {},
   "outputs": [
    {
     "name": "stdout",
     "output_type": "stream",
     "text": [
      "Enter you Email: we.cube@gmail.com\n",
      "Right Email\n"
     ]
    }
   ],
   "source": [
    "email= input('Enter you Email: ')\n",
    "k, j, d=0, 0, 0\n",
    "if len(email)>= 6:\n",
    "    if email[0].isalpha():\n",
    "        if ('@' in email) and (email.count('@')==1):\n",
    "            if (email[-4]=='.') ^ (email[-3]=='.'):\n",
    "                for i in email:\n",
    "                    if i == i.isspace():\n",
    "                        k=1\n",
    "                    elif i.isalpha():\n",
    "                        if i == i.upper():\n",
    "                            j=1\n",
    "                    elif i.isdigit():\n",
    "                        continue\n",
    "                    elif i == '_' or i == '.' or i == '@':\n",
    "                        continue\n",
    "                    else:\n",
    "                        d= 1\n",
    "                if k == 1 or j == 1 or d == 1:\n",
    "                    print('Wrong Email 5')\n",
    "                else:\n",
    "                    print('Right Email')\n",
    "            else:\n",
    "                print('Wrong Email 4')\n",
    "        else:\n",
    "            print('Wrong Email 3')\n",
    "    else:\n",
    "        print('Wrong Email 2')\n",
    "else:\n",
    "    print('Wrong Email 1')"
   ]
  }
 ],
 "metadata": {
  "kernelspec": {
   "display_name": "Python 3 (ipykernel)",
   "language": "python",
   "name": "python3"
  },
  "language_info": {
   "codemirror_mode": {
    "name": "ipython",
    "version": 3
   },
   "file_extension": ".py",
   "mimetype": "text/x-python",
   "name": "python",
   "nbconvert_exporter": "python",
   "pygments_lexer": "ipython3",
   "version": "3.9.7"
  }
 },
 "nbformat": 4,
 "nbformat_minor": 5
}
